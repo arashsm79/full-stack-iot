{
 "cells": [
  {
   "cell_type": "code",
   "execution_count": 1,
   "id": "5eb81f55-0bc5-4b3b-8338-6be4670ec752",
   "metadata": {},
   "outputs": [],
   "source": [
    "import sqlite3\n",
    "import pandas as pd\n",
    "import matplotlib.pyplot as plt\n",
    "import time\n",
    "from IPython.display import clear_output"
   ]
  },
  {
   "cell_type": "code",
   "execution_count": 2,
   "id": "2f46494b-2b42-40b1-9fbd-cec2c9e9466b",
   "metadata": {},
   "outputs": [],
   "source": [
    "dat = sqlite3.connect('db.sqlite3')"
   ]
  },
  {
   "cell_type": "markdown",
   "id": "2336d64d-7af9-486e-bd57-b24e1fd1747c",
   "metadata": {},
   "source": [
    "# Select Device"
   ]
  },
  {
   "cell_type": "code",
   "execution_count": 6,
   "id": "d3fca7bf-3960-4e08-8da0-7c4afef67712",
   "metadata": {},
   "outputs": [
    {
     "data": {
      "text/html": [
       "<div>\n",
       "<style scoped>\n",
       "    .dataframe tbody tr th:only-of-type {\n",
       "        vertical-align: middle;\n",
       "    }\n",
       "\n",
       "    .dataframe tbody tr th {\n",
       "        vertical-align: top;\n",
       "    }\n",
       "\n",
       "    .dataframe thead th {\n",
       "        text-align: right;\n",
       "    }\n",
       "</style>\n",
       "<table border=\"1\" class=\"dataframe\">\n",
       "  <thead>\n",
       "    <tr style=\"text-align: right;\">\n",
       "      <th></th>\n",
       "      <th>id</th>\n",
       "      <th>name</th>\n",
       "      <th>is_gateway</th>\n",
       "    </tr>\n",
       "  </thead>\n",
       "  <tbody>\n",
       "    <tr>\n",
       "      <th>0</th>\n",
       "      <td>1</td>\n",
       "      <td>24:0a:c4:80:cb:b0</td>\n",
       "      <td>1</td>\n",
       "    </tr>\n",
       "    <tr>\n",
       "      <th>1</th>\n",
       "      <td>2</td>\n",
       "      <td>24:0a:c4:80:cd:84</td>\n",
       "      <td>0</td>\n",
       "    </tr>\n",
       "    <tr>\n",
       "      <th>2</th>\n",
       "      <td>3</td>\n",
       "      <td>30:ae:a4:00:97:a8</td>\n",
       "      <td>0</td>\n",
       "    </tr>\n",
       "  </tbody>\n",
       "</table>\n",
       "</div>"
      ],
      "text/plain": [
       "   id               name  is_gateway\n",
       "0   1  24:0a:c4:80:cb:b0           1\n",
       "1   2  24:0a:c4:80:cd:84           0\n",
       "2   3  30:ae:a4:00:97:a8           0"
      ]
     },
     "execution_count": 6,
     "metadata": {},
     "output_type": "execute_result"
    }
   ],
   "source": [
    "dquery = dat.execute(\"SELECT * FROM main_device \")\n",
    "dcols = [column[0] for column in dquery.description]\n",
    "dresults = pd.DataFrame.from_records(data = dquery.fetchall(), columns = dcols)\n",
    "dresults"
   ]
  },
  {
   "cell_type": "code",
   "execution_count": 13,
   "id": "56c0fde3-4a2c-4646-91bb-8ad4c02357bc",
   "metadata": {},
   "outputs": [
    {
     "data": {
      "text/plain": [
       "'30:ae:a4:00:97:a8'"
      ]
     },
     "execution_count": 13,
     "metadata": {},
     "output_type": "execute_result"
    }
   ],
   "source": [
    "selected_device = 2\n",
    "selected_device = dresults.loc[selected_device]\n",
    "selected_device = selected_device['name']\n",
    "selected_device"
   ]
  },
  {
   "cell_type": "markdown",
   "id": "feeaefa3-c655-4b79-af84-955306a93735",
   "metadata": {},
   "source": [
    "# Show Data"
   ]
  },
  {
   "cell_type": "code",
   "execution_count": null,
   "id": "a21c7839-8efe-4391-8170-e0c66ebd61ef",
   "metadata": {},
   "outputs": [
    {
     "data": {
      "image/png": "[encoded data removed]",
      "text/plain": [
       "<Figure size 432x288 with 1 Axes>"
      ]
     },
     "metadata": {
      "needs_background": "light"
     },
     "output_type": "display_data"
    },
    {
     "data": {
      "image/png": "[encoded data removed]",
      "text/plain": [
       "<Figure size 432x288 with 1 Axes>"
      ]
     },
     "metadata": {
      "needs_background": "light"
     },
     "output_type": "display_data"
    }
   ],
   "source": [
    "while True:\n",
    "    query = dat.execute(\"SELECT * FROM main_timeseries, main_device WHERE main_device.name='{}' AND main_timeseries.device_id = main_device.id\".format(selected_device))\n",
    "    cols = [column[0] for column in query.description]\n",
    "    results = pd.DataFrame.from_records(data = query.fetchall(), columns = cols)\n",
    "    keys = results['key'].unique()\n",
    "    for key in keys:\n",
    "        res = results[results['key'] == key]\n",
    "        x = res['timestamp']\n",
    "        y = res['value']\n",
    "        plt.title(key)\n",
    "        plt.plot(x, y)\n",
    "        plt.show()\n",
    "    time.sleep(3)\n",
    "    clear_output(wait=True)"
   ]
  }
 ],
 "metadata": {
  "kernelspec": {
   "display_name": "Python3 - mach-nix-jupyter",
   "language": "python",
   "name": "ipython_mach-nix-jupyter"
  },
  "language_info": {
   "codemirror_mode": {
    "name": "ipython",
    "version": 3
   },
   "file_extension": ".py",
   "mimetype": "text/x-python",
   "name": "python",
   "nbconvert_exporter": "python",
   "pygments_lexer": "ipython3",
   "version": "3.9.12"
  }
 },
 "nbformat": 4,
 "nbformat_minor": 5
}
